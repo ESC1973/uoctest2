{
 "cells": [
  {
   "cell_type": "markdown",
   "metadata": {},
   "source": [
    "<div style='float:left'>\n",
    "<img style=\"-webkit-user-select: none\" src=\"https://www.uoc.edu/portal/_resources/common/imatges/marca_UOC/marca_UOC_web.jpg\">\n",
    "<h1>\n",
    "Práctica sobre:<br> Creación de un modelo combinado.\n",
    "</h1>\n",
    "</div>\n",
    "<div style='float:right'>\n",
    "<table align=\"right\">\n",
    "<tr>\n",
    "<th></th>\n",
    "<th>Master UOC en Inteligencia de Negocio</th>\n",
    "  </tr>\n",
    "  <tr>\n",
    "   <td>Asignatura</td>\n",
    "    <td>B2.332-M5  Modelos Avanzados de clasificación, relación y predicción</td>\n",
    "  </tr>\n",
    "  <tr>\n",
    "    <td>Consultor</td>\n",
    "    <td>Ramon Caihuelas | Jordi Gironés</td>\n",
    "  </tr>\n",
    "   <tr>\n",
    "    <td>Estudiante</td>\n",
    "    <td>Nombre y Apellidos</td>\n",
    "  </tr>\n",
    "   <tr>\n",
    "    <td>Fecha entrega</td>\n",
    "    <td>07/02/2018</td>\n",
    "  </tr>\n",
    "</table>\n",
    "</div>\n",
    "<div style='clear:both'></div>\n",
    "\n"
   ]
  },
  {
   "cell_type": "markdown",
   "metadata": {},
   "source": [
    "## Introducción\n",
    "\n",
    "El juego de datos a trabajar es libre, aunque podéis utilizar el utilizado en la PEC 1 o cualquiera de características similares por lo que respecta al número de variables y registros. En cualquier caso y para ilustrar mejor la práctica os hacemos una propuesta concreta de juego de datos.\n",
    "\n",
    "Observaréis que en algunos apartados hemos introducido sugerencias para completar el estudio."
   ]
  },
  {
   "cell_type": "markdown",
   "metadata": {},
   "source": [
    "## Acerca del set de datos\n",
    "\n",
    "Para obtener el set de datos con el que vamos a trabajar a nivel de propuesta, hemos accedido a la web del **\"Departamento de Transporte de los Estados Unidos\"** (http://www.transtats.bts.gov) y hemos buscado información acerca de los retrasos en los vuelos etre los diferentes estados. Esta iformación está disponibe en la siguiente URL: http://www.transtats.bts.gov/DL_SelectFields.asp?Table_ID=236&DB_Short_Name=On-Time\n",
    "\n",
    "Para descargar los datos se debe seleccionar el mes y el año correspondientes (Noviembre de 2016 en nuestro caso, solo a título de ejemplo) y a continuación se pueden seleccionar hasta un total de 111 variables.\n",
    "\n",
    "En nuestro caso hemos seleccionado 17 variables con el objetivo de determinar la posibilidad de que un vuelo se retrase.\n",
    "\n",
    "A continuacón se indican las variables seleccionadas así como una descripción de la mismas:\n",
    "\n",
    "**Time Period**\n",
    "* **Year**\tYear\n",
    "* **Month**\tMonth\n",
    "* **DayOfWeek**\tDay of Week\n",
    " \n",
    "**Airline**\n",
    "* **UniqueCarrier**\tUnique Carrier Code. When the same code has been used by multiple carriers, a numeric suffix is used for earlier users, for example, PA, PA(1), PA(2). Use this field for analysis across a range of years.\n",
    "* **AirlineID**\tAn identification number assigned by US DOT to identify a unique airline (carrier). A unique airline (carrier) is defined as one holding and reporting under the same DOT certificate regardless of its Code, Name, or holding company/corporation.\n",
    "* **Carrier**\tCode assigned by IATA and commonly used to identify a carrier. As the same code may have been assigned to different carriers over time, the code is not always unique. For analysis, use the Unique Carrier Code.\n",
    "\n",
    "**Origin**\n",
    "* **OriginAirportID**\tOrigin Airport, Airport ID. An identification number assigned by US DOT to identify a unique airport. Use this field for airport analysis across a range of years because an airport can change its airport code and airport codes can be reused.\n",
    "* **OriginAirportSeqID**\tOrigin Airport, Airport Sequence ID. An identification number assigned by US DOT to identify a unique airport at a given point of time. Airport attributes, such as airport name or coordinates, may change over time.\n",
    "* **OriginWac**\tOrigin Airport, World Area Code\n",
    "\n",
    "**Destination**\n",
    "* **DestAirportID**\tDestination Airport, Airport ID. An identification number assigned by US DOT to identify a unique airport. Use this field for airport analysis across a range of years because an airport can change its airport code and airport codes can be reused.\n",
    "* **DestAirportSeqID**\tDestination Airport, Airport Sequence ID. An identification number assigned by US DOT to identify a unique airport at a given point of time. Airport attributes, such as airport name or coordinates, may change over time.\n",
    "* **DestWac**\tDestination Airport, World Area Code\n",
    "\n",
    "**Departure Performance**\n",
    "* **DepDel15**\tDeparture Delay Indicator, 15 Minutes or More (1=Yes)\n",
    "\n",
    "**Arrival Performance**\n",
    "* **ArrDel15**\tArrival Delay Indicator, 15 Minutes or More (1=Yes)\n",
    "\n",
    "**Cancellations and Diversions**\n",
    "* **Cancelled**\tCancelled Flight Indicator (1=Yes)\n",
    "* **Diverted**\tDiverted Flight Indicator (1=Yes)\n",
    "\n",
    "**Flight Summaries**\n",
    "* **Distance**\tDistance between airports (miles)\t\n",
    "\n",
    "\n",
    "### NOTA: Destacar que la variable que pretendemos predecir es *Arrival Performance* y ya es categórica\n",
    "\n",
    "* **ArrDel15:** Arrival Delay Indicator, 15 Minutes or More (1=Yes)\n",
    "\n"
   ]
  },
  {
   "cell_type": "markdown",
   "metadata": {},
   "source": [
    "#### Entregable\n",
    "La práctica a entregar por parte del estudiante será este mismo documento con, al menos, los puntos del siguiente índice desarrollados:\n",
    "\n",
    "     1. Carga de datos y tareas de preprocesado si es necesario.\n",
    "     2. Trabajar la calidad de los datos: limpieza, categorización, normalización.\n",
    "     3. Estudiar correlaciones y generar nuevas variables si es necesario.\n",
    "     4. Estudio visual de la información contenida en los datos (distribuciones, correlaciones, ...).\n",
    "     5. Mejorar del juego de datos mediante los algoritmos PCA y/o SVD estudiados en la PEC 1 si procede.\n",
    "     6. Elaboración de un primer modelo clasificador basado en algún algoritmo de clasificación estudiado en el Master.\n",
    "     7. Extraer un valor base de la calidad del modelo generado.\n",
    "     8. Interpretar la información obtenida del modelo generado: variables más relevantes, etc.\n",
    "     9. Elaborar un modelo clasificador escogiendo al menos uno de los modelos combinados vistos en el material docente. Es necesario que justifiquéis vuestra elección.\n",
    "    10. Aplicar el nuevo modelo clasificador combinado y verificar si se han producido mejoras respecto el valor base.\n",
    "    11. Interpretar, dentro de lo posible, la información obtenida del nuevo modelo.\n",
    "    12. Conclusiones.\n",
    "    13. Fuentes consultadas.\n",
    "\n",
    "Deberá quedar explícito que se ha trabajado y entendido el material didáctico y que sois capaces de realizar tareas de laboratorio de analítica de datos con los algoritmos estudiados, tomando las decisiones adecuadas en cada caso."
   ]
  },
  {
   "cell_type": "markdown",
   "metadata": {},
   "source": [
    "## 0. Entorno\n",
    "En este punto cargaremos las librerías a utilizar."
   ]
  },
  {
   "cell_type": "code",
   "execution_count": 1,
   "metadata": {},
   "outputs": [],
   "source": [
    "#Ejecucion comandos para disponer de librerias\n",
    "\n"
   ]
  },
  {
   "cell_type": "markdown",
   "metadata": {},
   "source": [
    "## 1. Carga de datos y tareas de preprocesado\n",
    "En este punto podemos cargar y validar visualmente los datos."
   ]
  },
  {
   "cell_type": "code",
   "execution_count": 2,
   "metadata": {},
   "outputs": [],
   "source": [
    "# Descargamos el juego de datos en un directorio local.\n",
    "Vuelos <- read.csv(file=\"740185109_T_ONTIME.csv\",header = TRUE, sep = \",\", quote = \"\\\"\", dec = \".\")\n",
    "#Guardamos la version original de los datos\n",
    "VuelosO <- Vuelos"
   ]
  },
  {
   "cell_type": "markdown",
   "metadata": {},
   "source": [
    "Inspeccionaremos los datos visualmente con el fin de identificar problemas en la carga.\n",
    "Revisaremos tanto los registros iniciales, como los finales."
   ]
  },
  {
   "cell_type": "code",
   "execution_count": 3,
   "metadata": {
    "scrolled": true
   },
   "outputs": [
    {
     "data": {
      "text/html": [
       "<table>\n",
       "<thead><tr><th></th><th scope=col>YEAR</th><th scope=col>MONTH</th><th scope=col>DAY_OF_WEEK</th><th scope=col>UNIQUE_CARRIER</th><th scope=col>AIRLINE_ID</th><th scope=col>CARRIER</th><th scope=col>ORIGIN_AIRPORT_ID</th><th scope=col>ORIGIN_AIRPORT_SEQ_ID</th><th scope=col>ORIGIN_WAC</th><th scope=col>DEST_AIRPORT_ID</th><th scope=col>DEST_AIRPORT_SEQ_ID</th><th scope=col>DEST_WAC</th><th scope=col>DEP_DEL15</th><th scope=col>ARR_DEL15</th><th scope=col>CANCELLED</th><th scope=col>DIVERTED</th><th scope=col>DISTANCE</th><th scope=col>X</th></tr></thead>\n",
       "<tbody>\n",
       "\t<tr><th scope=row>1</th><td>2016   </td><td>11     </td><td>6      </td><td>DL     </td><td>19790  </td><td>DL     </td><td>11278  </td><td>1127803</td><td>38     </td><td>13487  </td><td>1348702</td><td>63     </td><td>0      </td><td>0      </td><td>0      </td><td>0      </td><td>931    </td><td>NA     </td></tr>\n",
       "\t<tr><th scope=row>2</th><td>2016   </td><td>11     </td><td>6      </td><td>DL     </td><td>19790  </td><td>DL     </td><td>14683  </td><td>1468303</td><td>74     </td><td>12478  </td><td>1247803</td><td>22     </td><td>0      </td><td>0      </td><td>0      </td><td>0      </td><td>1587   </td><td>NA     </td></tr>\n",
       "\t<tr><th scope=row>3</th><td>2016   </td><td>11     </td><td>6      </td><td>DL     </td><td>19790  </td><td>DL     </td><td>14869  </td><td>1486903</td><td>87     </td><td>14107  </td><td>1410702</td><td>81     </td><td>0      </td><td>0      </td><td>0      </td><td>0      </td><td>507    </td><td>NA     </td></tr>\n",
       "\t<tr><th scope=row>4</th><td>2016   </td><td>11     </td><td>6      </td><td>DL     </td><td>19790  </td><td>DL     </td><td>11884  </td><td>1188402</td><td>93     </td><td>13487  </td><td>1348702</td><td>63     </td><td>0      </td><td>0      </td><td>0      </td><td>0      </td><td>1175   </td><td>NA     </td></tr>\n",
       "\t<tr><th scope=row>5</th><td>2016   </td><td>11     </td><td>6      </td><td>DL     </td><td>19790  </td><td>DL     </td><td>12892  </td><td>1289204</td><td>91     </td><td>12889  </td><td>1288903</td><td>85     </td><td>0      </td><td>0      </td><td>0      </td><td>0      </td><td>236    </td><td>NA     </td></tr>\n",
       "\t<tr><th scope=row>6</th><td>2016   </td><td>11     </td><td>6      </td><td>DL     </td><td>19790  </td><td>DL     </td><td>13198  </td><td>1319801</td><td>64     </td><td>10397  </td><td>1039705</td><td>34     </td><td>0      </td><td>0      </td><td>0      </td><td>0      </td><td>692    </td><td>NA     </td></tr>\n",
       "</tbody>\n",
       "</table>\n"
      ],
      "text/latex": [
       "\\begin{tabular}{r|llllllllllllllllll}\n",
       "  & YEAR & MONTH & DAY\\_OF\\_WEEK & UNIQUE\\_CARRIER & AIRLINE\\_ID & CARRIER & ORIGIN\\_AIRPORT\\_ID & ORIGIN\\_AIRPORT\\_SEQ\\_ID & ORIGIN\\_WAC & DEST\\_AIRPORT\\_ID & DEST\\_AIRPORT\\_SEQ\\_ID & DEST\\_WAC & DEP\\_DEL15 & ARR\\_DEL15 & CANCELLED & DIVERTED & DISTANCE & X\\\\\n",
       "\\hline\n",
       "\t1 & 2016    & 11      & 6       & DL      & 19790   & DL      & 11278   & 1127803 & 38      & 13487   & 1348702 & 63      & 0       & 0       & 0       & 0       & 931     & NA     \\\\\n",
       "\t2 & 2016    & 11      & 6       & DL      & 19790   & DL      & 14683   & 1468303 & 74      & 12478   & 1247803 & 22      & 0       & 0       & 0       & 0       & 1587    & NA     \\\\\n",
       "\t3 & 2016    & 11      & 6       & DL      & 19790   & DL      & 14869   & 1486903 & 87      & 14107   & 1410702 & 81      & 0       & 0       & 0       & 0       & 507     & NA     \\\\\n",
       "\t4 & 2016    & 11      & 6       & DL      & 19790   & DL      & 11884   & 1188402 & 93      & 13487   & 1348702 & 63      & 0       & 0       & 0       & 0       & 1175    & NA     \\\\\n",
       "\t5 & 2016    & 11      & 6       & DL      & 19790   & DL      & 12892   & 1289204 & 91      & 12889   & 1288903 & 85      & 0       & 0       & 0       & 0       & 236     & NA     \\\\\n",
       "\t6 & 2016    & 11      & 6       & DL      & 19790   & DL      & 13198   & 1319801 & 64      & 10397   & 1039705 & 34      & 0       & 0       & 0       & 0       & 692     & NA     \\\\\n",
       "\\end{tabular}\n"
      ],
      "text/plain": [
       "  YEAR MONTH DAY_OF_WEEK UNIQUE_CARRIER AIRLINE_ID CARRIER ORIGIN_AIRPORT_ID\n",
       "1 2016    11           6             DL      19790      DL             11278\n",
       "2 2016    11           6             DL      19790      DL             14683\n",
       "3 2016    11           6             DL      19790      DL             14869\n",
       "4 2016    11           6             DL      19790      DL             11884\n",
       "5 2016    11           6             DL      19790      DL             12892\n",
       "6 2016    11           6             DL      19790      DL             13198\n",
       "  ORIGIN_AIRPORT_SEQ_ID ORIGIN_WAC DEST_AIRPORT_ID DEST_AIRPORT_SEQ_ID DEST_WAC\n",
       "1               1127803         38           13487             1348702       63\n",
       "2               1468303         74           12478             1247803       22\n",
       "3               1486903         87           14107             1410702       81\n",
       "4               1188402         93           13487             1348702       63\n",
       "5               1289204         91           12889             1288903       85\n",
       "6               1319801         64           10397             1039705       34\n",
       "  DEP_DEL15 ARR_DEL15 CANCELLED DIVERTED DISTANCE  X\n",
       "1         0         0         0        0      931 NA\n",
       "2         0         0         0        0     1587 NA\n",
       "3         0         0         0        0      507 NA\n",
       "4         0         0         0        0     1175 NA\n",
       "5         0         0         0        0      236 NA\n",
       "6         0         0         0        0      692 NA"
      ]
     },
     "metadata": {},
     "output_type": "display_data"
    }
   ],
   "source": [
    "#Inspeccionamos que los datos se estén leyendo bien mostrando las primeras filas del conjunto\n",
    "head(Vuelos)"
   ]
  },
  {
   "cell_type": "markdown",
   "metadata": {},
   "source": [
    "## 2. Trabajar la calidad de los datos: limpieza, categorización, normalización"
   ]
  },
  {
   "cell_type": "markdown",
   "metadata": {},
   "source": [
    "Revisamos la **dimensión del fichero**"
   ]
  },
  {
   "cell_type": "code",
   "execution_count": 4,
   "metadata": {},
   "outputs": [
    {
     "data": {
      "text/html": [
       "<ol class=list-inline>\n",
       "\t<li>450938</li>\n",
       "\t<li>18</li>\n",
       "</ol>\n"
      ],
      "text/latex": [
       "\\begin{enumerate*}\n",
       "\\item 450938\n",
       "\\item 18\n",
       "\\end{enumerate*}\n"
      ],
      "text/markdown": [
       "1. 450938\n",
       "2. 18\n",
       "\n",
       "\n"
      ],
      "text/plain": [
       "[1] 450938     18"
      ]
     },
     "metadata": {},
     "output_type": "display_data"
    }
   ],
   "source": [
    "#Revisamos la dimensión del fichero (número de registros y número de variables)\n",
    "dim(Vuelos)"
   ]
  },
  {
   "cell_type": "code",
   "execution_count": 5,
   "metadata": {},
   "outputs": [
    {
     "data": {
      "text/html": [
       "<ol class=list-inline>\n",
       "\t<li>\"YEAR\"</li>\n",
       "\t<li>\"MONTH\"</li>\n",
       "\t<li>\"DAY_OF_WEEK\"</li>\n",
       "\t<li>\"UNIQUE_CARRIER\"</li>\n",
       "\t<li>\"AIRLINE_ID\"</li>\n",
       "\t<li>\"CARRIER\"</li>\n",
       "\t<li>\"ORIGIN_AIRPORT_ID\"</li>\n",
       "\t<li>\"ORIGIN_AIRPORT_SEQ_ID\"</li>\n",
       "\t<li>\"ORIGIN_WAC\"</li>\n",
       "\t<li>\"DEST_AIRPORT_ID\"</li>\n",
       "\t<li>\"DEST_AIRPORT_SEQ_ID\"</li>\n",
       "\t<li>\"DEST_WAC\"</li>\n",
       "\t<li>\"DEP_DEL15\"</li>\n",
       "\t<li>\"ARR_DEL15\"</li>\n",
       "\t<li>\"CANCELLED\"</li>\n",
       "\t<li>\"DIVERTED\"</li>\n",
       "\t<li>\"DISTANCE\"</li>\n",
       "\t<li>\"X\"</li>\n",
       "</ol>\n"
      ],
      "text/latex": [
       "\\begin{enumerate*}\n",
       "\\item \"YEAR\"\n",
       "\\item \"MONTH\"\n",
       "\\item \"DAY\\_OF\\_WEEK\"\n",
       "\\item \"UNIQUE\\_CARRIER\"\n",
       "\\item \"AIRLINE\\_ID\"\n",
       "\\item \"CARRIER\"\n",
       "\\item \"ORIGIN\\_AIRPORT\\_ID\"\n",
       "\\item \"ORIGIN\\_AIRPORT\\_SEQ\\_ID\"\n",
       "\\item \"ORIGIN\\_WAC\"\n",
       "\\item \"DEST\\_AIRPORT\\_ID\"\n",
       "\\item \"DEST\\_AIRPORT\\_SEQ\\_ID\"\n",
       "\\item \"DEST\\_WAC\"\n",
       "\\item \"DEP\\_DEL15\"\n",
       "\\item \"ARR\\_DEL15\"\n",
       "\\item \"CANCELLED\"\n",
       "\\item \"DIVERTED\"\n",
       "\\item \"DISTANCE\"\n",
       "\\item \"X\"\n",
       "\\end{enumerate*}\n"
      ],
      "text/markdown": [
       "1. \"YEAR\"\n",
       "2. \"MONTH\"\n",
       "3. \"DAY_OF_WEEK\"\n",
       "4. \"UNIQUE_CARRIER\"\n",
       "5. \"AIRLINE_ID\"\n",
       "6. \"CARRIER\"\n",
       "7. \"ORIGIN_AIRPORT_ID\"\n",
       "8. \"ORIGIN_AIRPORT_SEQ_ID\"\n",
       "9. \"ORIGIN_WAC\"\n",
       "10. \"DEST_AIRPORT_ID\"\n",
       "11. \"DEST_AIRPORT_SEQ_ID\"\n",
       "12. \"DEST_WAC\"\n",
       "13. \"DEP_DEL15\"\n",
       "14. \"ARR_DEL15\"\n",
       "15. \"CANCELLED\"\n",
       "16. \"DIVERTED\"\n",
       "17. \"DISTANCE\"\n",
       "18. \"X\"\n",
       "\n",
       "\n"
      ],
      "text/plain": [
       " [1] \"YEAR\"                  \"MONTH\"                 \"DAY_OF_WEEK\"          \n",
       " [4] \"UNIQUE_CARRIER\"        \"AIRLINE_ID\"            \"CARRIER\"              \n",
       " [7] \"ORIGIN_AIRPORT_ID\"     \"ORIGIN_AIRPORT_SEQ_ID\" \"ORIGIN_WAC\"           \n",
       "[10] \"DEST_AIRPORT_ID\"       \"DEST_AIRPORT_SEQ_ID\"   \"DEST_WAC\"             \n",
       "[13] \"DEP_DEL15\"             \"ARR_DEL15\"             \"CANCELLED\"            \n",
       "[16] \"DIVERTED\"              \"DISTANCE\"              \"X\"                    "
      ]
     },
     "metadata": {},
     "output_type": "display_data"
    }
   ],
   "source": [
    "#Revisamos los nombres de las columnas\n",
    "names(Vuelos)"
   ]
  },
  {
   "cell_type": "markdown",
   "metadata": {},
   "source": [
    "Podemos analizar la **tipología de las variables**"
   ]
  },
  {
   "cell_type": "code",
   "execution_count": 6,
   "metadata": {},
   "outputs": [],
   "source": [
    "#Revisamos la tipología de las variables\n"
   ]
  },
  {
   "cell_type": "markdown",
   "metadata": {},
   "source": [
    "Si hubieran variables con el mismo contenido, eliminaremos una de las dos."
   ]
  },
  {
   "cell_type": "markdown",
   "metadata": {},
   "source": [
    "Las variables con valores onstantes no agregan valor y de modo que podríamos eliminarlas."
   ]
  },
  {
   "cell_type": "markdown",
   "metadata": {},
   "source": [
    "Buscamos la existencia de **registros duplicados** y, si los hay, procedemos a su eliminación."
   ]
  },
  {
   "cell_type": "code",
   "execution_count": 7,
   "metadata": {},
   "outputs": [
    {
     "data": {
      "text/html": [
       "450938"
      ],
      "text/latex": [
       "450938"
      ],
      "text/markdown": [
       "450938"
      ],
      "text/plain": [
       "[1] 450938"
      ]
     },
     "metadata": {},
     "output_type": "display_data"
    },
    {
     "data": {
      "text/html": [
       "83369"
      ],
      "text/latex": [
       "83369"
      ],
      "text/markdown": [
       "83369"
      ],
      "text/plain": [
       "[1] 83369"
      ]
     },
     "metadata": {},
     "output_type": "display_data"
    }
   ],
   "source": [
    "#Revisamos la existencia de duplicados (realizamos conteo antes y después)\n",
    "nrow (Vuelos)\n",
    "Vuelos <- unique(Vuelos)\n",
    "nrow (Vuelos)"
   ]
  },
  {
   "cell_type": "markdown",
   "metadata": {},
   "source": [
    "Buscamos la existencia de **valores nulos** (no informados)"
   ]
  },
  {
   "cell_type": "markdown",
   "metadata": {},
   "source": [
    "Sugerimos eliminar los registros con valores nulos."
   ]
  },
  {
   "cell_type": "markdown",
   "metadata": {},
   "source": [
    "Verificamos si hay valores **outliers**"
   ]
  },
  {
   "cell_type": "markdown",
   "metadata": {},
   "source": [
    "Sugerimos **Factorizar** aquellas variables cuyos valores se pueden analizar como pertenecientes a un rango de posibles valores.\n"
   ]
  },
  {
   "cell_type": "markdown",
   "metadata": {},
   "source": [
    "## 3. Estudiar correlaciones y generar nuevas variables si es necesario."
   ]
  },
  {
   "cell_type": "markdown",
   "metadata": {},
   "source": [
    "Alguna variables en nuestro conjunto de datos pueden tener correlaciones muy elevadas.\n",
    "En ese caso podemos prescindir de algunas de las variables para crear el modelo."
   ]
  },
  {
   "cell_type": "code",
   "execution_count": 8,
   "metadata": {},
   "outputs": [],
   "source": [
    "# Variables con alta correlacion que se pueden eliminar\n"
   ]
  },
  {
   "cell_type": "markdown",
   "metadata": {},
   "source": [
    "### Puntuar características por importancia\n",
    "En algunos casos nos interesa descubrir qué características son las más importantes de\n",
    "acuerdo a algún criterio.\n",
    "Se podría utilizar alguna función R para ordenar las características en función de su importancia respecto de la variable objetivo.\n",
    "\n"
   ]
  },
  {
   "cell_type": "markdown",
   "metadata": {},
   "source": [
    "## 4. Estudio visual de la información contenida en los datos\n",
    "En este punto analizaremos desde un punto de vista visual los datos previamente tratados, se mostrarán varias visualizaciones poniendo el foco en las caracteríasticas principales."
   ]
  },
  {
   "cell_type": "markdown",
   "metadata": {},
   "source": [
    "**Analisis bivariable de pares de variables**\n",
    "\n",
    "La opción de jitter (añadir una cierta dispersión a los datos para evitar el solapamiento)\n",
    "nos ayuda a ver las agrupaciones de puntos alrededor de un valor."
   ]
  },
  {
   "cell_type": "markdown",
   "metadata": {},
   "source": [
    "## 5. Mejorar del juego de datos mediante los algoritmos PCA y/o SVD\n",
    "### PCA\n",
    "El análisis de componentes principales (Principal Component Analysis, o PCA) nos puede\n",
    "ayudar a solucionar problemas de reducción de dimensionalidad y extracción de\n",
    "características en nuestros datos de forma automática.\n"
   ]
  },
  {
   "cell_type": "markdown",
   "metadata": {},
   "source": [
    "Cuando tengamos los componentes principales nos haremos la siguiente pregunta.\n",
    "¿Qué componente principal escogemos para trabajar? Observaremos las desviaciones\n",
    "estándar de cada grupo."
   ]
  },
  {
   "cell_type": "markdown",
   "metadata": {},
   "source": [
    "### SVD\n",
    "Con los mismos objetivos y conceptos que los vistos anteriormente con el método PCA, podemos utilizar este método de descomposición factorial para la extracción de características.\n",
    "Así, vamos a aplicar la descomposición factorial llamada \"Singular Value Descomposition\" (SVD) para encontrar una nueva forma de representar las variables perdiendo la mínima información."
   ]
  },
  {
   "cell_type": "markdown",
   "metadata": {},
   "source": [
    "## 6. Elaboración de un primer modelo clasificador basado en algún algoritmo de clasificación estudiado en el Master.\n"
   ]
  },
  {
   "cell_type": "markdown",
   "metadata": {
    "collapsed": true
   },
   "source": [
    "Se podrían usar diferentes técnicas o algoritmos con la idea de construir un modelo combinado más adelante."
   ]
  },
  {
   "cell_type": "markdown",
   "metadata": {},
   "source": [
    "## 7. Extraer un valor base de la calidad del modelo generado."
   ]
  },
  {
   "cell_type": "markdown",
   "metadata": {},
   "source": [
    "## 8. Interpretar la información obtenida del modelo generado: variables más relevantes, etc.\n"
   ]
  },
  {
   "cell_type": "markdown",
   "metadata": {},
   "source": [
    "## 9. Elaborar un modelo clasificador escogiendo al menos uno de los modelos combinados vistos en el material docente. Es necesario que justifiquéis vuestra elección."
   ]
  },
  {
   "cell_type": "markdown",
   "metadata": {},
   "source": [
    "## 10. Aplicar el nuevo modelo clasificador combinado y verificar si se han producido mejoras respecto el valor base.\n"
   ]
  },
  {
   "cell_type": "markdown",
   "metadata": {},
   "source": [
    "## 11. Interpretar, dentro de lo posible, la información obtenida del nuevo modelo."
   ]
  },
  {
   "cell_type": "markdown",
   "metadata": {},
   "source": [
    "## 12. Resumen y conclusiones"
   ]
  },
  {
   "cell_type": "markdown",
   "metadata": {},
   "source": [
    "## 13. Fuentes consultadas"
   ]
  },
  {
   "cell_type": "markdown",
   "metadata": {},
   "source": [
    "Algunas de las URL de interés que se han consultado:\n"
   ]
  }
 ],
 "metadata": {
  "anaconda-cloud": {},
  "celltoolbar": "Slideshow",
  "kernelspec": {
   "display_name": "R",
   "language": "R",
   "name": "ir"
  },
  "language_info": {
   "codemirror_mode": "r",
   "file_extension": ".r",
   "mimetype": "text/x-r-source",
   "name": "R",
   "pygments_lexer": "r",
   "version": "3.4.2"
  }
 },
 "nbformat": 4,
 "nbformat_minor": 1
}
