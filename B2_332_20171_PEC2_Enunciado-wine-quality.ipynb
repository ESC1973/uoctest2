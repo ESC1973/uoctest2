{
 "cells": [
  {
   "cell_type": "markdown",
   "metadata": {},
   "source": [
    "<div style='float:left'>\n",
    "<img style=\"-webkit-user-select: none\" src=\"https://www.uoc.edu/portal/_resources/common/imatges/marca_UOC/marca_UOC_web.jpg\">\n",
    "<h1>\n",
    "Práctica sobre:<br> Algoritmos de clasificación predictiva\n",
    "</h1>\n",
    "</div>\n",
    "<div style='float:right'>\n",
    "<table align=\"right\">\n",
    "<tr>\n",
    "<th></th>\n",
    "<th>Master UOC en Inteligencia de Negocio</th>\n",
    "  </tr>\n",
    "  <tr>\n",
    "   <td>Asignatura</td>\n",
    "    <td>B2.332-M3-M4 Modelos Avanzados</td>\n",
    "  </tr>\n",
    "  <tr>\n",
    "    <td>Consultor</td>\n",
    "    <td>Jordi Gironés</td>\n",
    "  </tr>\n",
    "   <tr>\n",
    "    <td>Estudiante</td>\n",
    "    <td>Nombre y apellidos</td>\n",
    "  </tr>\n",
    "   <tr>\n",
    "    <td>Fecha</td>\n",
    "    <td>dd/mm/aaaa</td>\n",
    "  </tr>\n",
    "</table>\n",
    "</div>\n",
    "<div style='clear:both'></div>\n",
    "\n"
   ]
  },
  {
   "cell_type": "markdown",
   "metadata": {},
   "source": [
    "## Introducción\n",
    "\n",
    "El juego de datos a trabajar es libre, proponemos por ejemplo la siguiente lista:  \n",
    "\n",
    "<ul>\n",
    "<li>[Machine Learning Repository: Calidad de vinos](https://archive.ics.uci.edu/ml/datasets/Wine+Quality)</li>\n",
    "<li>[Machine Learning Repository: Popularidad artículos](https://archive.ics.uci.edu/ml/datasets/Online+News+Popularity)</li>\n",
    "<li>[Machine Learning Repository: Incendios forestales](https://archive.ics.uci.edu/ml/machine-learning-databases/forest-fires/)</li>\n",
    "</ul>\n",
    "\n",
    "Dicho esto y para orientar mejor la práctica hemos desarrollado un ejemplo con el juego de datos referente a la <b>Calidad del Vino</b>.\n",
    "\n",
    "Deberéis utilizar código R y los paquetes `neuralnet` y/o `e1071`.\n",
    "\n",
    "Recordemos que se trata de datos relacionados con dos variantes del \"Vinho Verde\" de origen portugués. En concreto, se presentan dos datasets en el que se utilizan dos muestras de tinto y blanco. Los datos son puramente fisicoquímicos (no hay precios, tipos de uva, nombre de la marca, etc.), aunque sí se encontrará información acerca de la calidad del vino obtenidos a partir de la valoración de por lo menos 3 evaluaciones realizadas por expertos en vino.\n",
    "\n",
    "Se podrá consultar más información así como también descargar los archivos que conforman el conjunto de datos en siguiente enlace: https://archive.ics.uci.edu/ml/datasets/Wine+Quality\n",
    "\n",
    "<small> <i>P. Cortez, A. Cerdeira, F. Almeida, T. Matos and J. Reis. Modeling wine preferences by data mining from physicochemical properties. In Decision Support Systems, Elsevier, 47(4):547-553, 2009.</i></small>"
   ]
  },
  {
   "cell_type": "markdown",
   "metadata": {},
   "source": [
    "### <i>Más sobre los datos:</i>\n",
    "\n",
    "<ul>\n",
    "    <li> Formato: CSV - <small> 2 archivos distintos, uno para cada tipo de vino</small>.\n",
    "    <br><br>\n",
    "\n",
    "    <li> Número de filas (instancias): 6.497 - <small> de las cuales 1.599 corresponden a la variante de tinto y 4.898 al vino blanco</small>.\n",
    "    <br><br>\n",
    "    \n",
    "    <li> Número de columnas (atributos): 12 - <small> de las cuales 11 son analíticos y están basadas en tests fisicoquímicos (<i>input variables</i>), mientras que uno de ellos está basado en datos sensoriales (<i>output variable</i>). Veámos en detalle el contenido de cada una de ellas:\n",
    "    \n",
    "    <ol>\n",
    "        <li> <b>Acidez Fija</b> (<i>fixed.acidity</i>). La acidez fija procede principalmente de la uva. Los ácidos fijos más predominantes en el vino son tartárico, málico, cítrico y sucínico, aunque en este caso se trata exclusivamente del primero: ácido tartárico, que juega un rol muy importante manteniendo la estabilidad quimica del vino y su color, así como influye en el sabor final del vino. Unidad: $g(\\text{ácido tartárico})/dm^3$.\n",
    "        \n",
    "        <li> <b>Acidez Volátil</b> (<i>volatile.acidity</i>). Este tipo de acidez hace referencia a los ácidos destilables en vapor presentes en el vino, principalmente el acético, así como también el láctico y el fórmico, entre otros. En este caso, se trata del ácido acético, el ácido del vinagre, que principalmente refuerza el olor y el sabor. Unidad: $g(\\text{ácido acético})/dm^3$.\n",
    "        \n",
    "        <li> <b>Ácido Cítrico</b> (<i>citric.acid</i>). Este tipo de ácido es poco abundante en la uva y es un buen conservante y antioxidante natural. En la UE, su uso está limitado a la eliminación de exceso de hierro y cobre. Unidad: $g/dm^3$.\n",
    "        \n",
    "        <li> <b>Azúcar Residual</b> (<i>residual.sugar</i>). Se denomina azúcar residual al azúcar que tras la fermentación permanece en el vino. Da frescura al vino y según la cantidad de azúcar residual que permanece en el vino, se denomina seco, semiseco, semidulce o dulce. Unidad: $g/dm^3$.\n",
    "     \n",
    "        <li> <b>Cloruros</b> (<i>chlorides</i>). En este caso se ha expresado como cloruro de sodio, comunmente conocido como sal. Unidad: $g(\\text{cloruro de sodio})/dm^3$.\n",
    "     \n",
    "        <li> <b>Dióxido de Azufre Libre</b> (<i>free.sulfur.dioxide</i>). El dióxido de azufre libre protege al vino contra la oxidación, el deterioro biologico y da un olor particular al vino. Unidad: $mg/dm^3$.\n",
    "        \n",
    "        <li> <b>Dióxido de Azufre</b> (<i>total.sulfur.dioxide</i>). El total de dióxido de azufre en el vino viene dado por la suma del libre y el combinado. La relación entre ambos varia de un vino a otro. Unidad: $mg/dm^3$.\n",
    "        \n",
    "        <li> <b>Densidad</b> (<i>density</i>). La densidad de un vino viene dada por la relación entre su masa volúmica comparándolo con el agua. Unidad: $g/cm^3$.\n",
    "        \n",
    "        <li> <b>pH</b>. Es un indicador del grado de acidez. \n",
    "        \n",
    "        <li> <b>Sufatos</b> (<i>sulphates</i>). Se expresa como sulfato de potasio, que es la sal potásica del ácido sulfúrico y principalmente se utiliza como fertilizante y conservante. La presencia de sulfatos en el vino está regulada. Unidad: $g(\\text{sulfato de potasio})/dm^3$.\n",
    "        \n",
    "        <li> <b>Alcohol</b>. Se trata de la graduación alcohólica del vino. Unidad: $\\%$ vol.\n",
    "        \n",
    "        <li> <b>Calidad</b> (<i>quality</i>). Cada muestra ha sido evaluada por un mínimo de tres expertos que valoraron el vino en una escala 0-10 (dónde 0 sería 'muy malo' y 10 'excelente).\n",
    "    </ol> \n",
    "    \n",
    " </small>\n",
    " \n",
    "</ul>"
   ]
  },
  {
   "cell_type": "markdown",
   "metadata": {},
   "source": [
    "#### Entregable\n",
    "La práctica a entregar por parte del estudiante será este mismo documento con el siguiente índice ampliamente desarrollado:\n",
    "\n",
    "     1.  Carga de datos y tareas de preprocesado.\n",
    "     2.  Trabajar la calidad de los datos: limpieza, categorización, normalización.\n",
    "     3.  Estudiad correlaciones y generar nuevas variables si es necesario.\n",
    "     4.  Optimización de los parámetros gamma y coste\n",
    "     5.  Aplicación del algoritmo SVM radial, polinomial y sigmoidal\n",
    "     6.  Aplicación del algoritmo Redes Neuronales con diferentes combinaciones de capas y neuronas.\n",
    "     7.  Mejora del juego de datos mediante los algoritmos PCA y SVD estudiados en la PEC1.\n",
    "     8.  Aplicar de nuevo SVM y Redes Neuronales y verificar si se han producido mejoras.\n",
    "     9.  Conclusiones\n",
    "    10.  Fuentes consultadas\n",
    "\n",
    "Deberá quedar explícito que se ha trabajado y entendido el material didáctico y que sois capaces de realizar tareas de laboratorio de analítica de datos con los algoritmos estudiados."
   ]
  },
  {
   "cell_type": "markdown",
   "metadata": {},
   "source": [
    "********************************************************\n",
    "## 1. Carga de datos y tareas de preprocesado\n",
    "********************************************************"
   ]
  },
  {
   "cell_type": "markdown",
   "metadata": {},
   "source": [
    "A continuación se cargarán los archivos que conforman nuestro dataset.\n",
    "<br>\n",
    "En este apartado se siguen los mismos pasos que se siguieron en actividades anteriores para cargar y procesar los datos del dataset escogido para realizar los ejercicios propuestos. Por el mismo motivo, se explicarán muy brevemente."
   ]
  },
  {
   "cell_type": "code",
   "execution_count": 1,
   "metadata": {},
   "outputs": [
    {
     "data": {
      "text/html": [
       "<table>\n",
       "<thead><tr><th scope=col>fixed.acidity</th><th scope=col>volatile.acidity</th><th scope=col>citric.acid</th><th scope=col>residual.sugar</th><th scope=col>chlorides</th><th scope=col>free.sulfur.dioxide</th><th scope=col>total.sulfur.dioxide</th><th scope=col>density</th><th scope=col>pH</th><th scope=col>sulphates</th><th scope=col>alcohol</th><th scope=col>quality</th></tr></thead>\n",
       "<tbody>\n",
       "\t<tr><td>7.4   </td><td>0.70  </td><td>0     </td><td>1.9   </td><td>0.076 </td><td>11    </td><td>34    </td><td>0.9978</td><td>3.51  </td><td>0.56  </td><td>9.4   </td><td>5     </td></tr>\n",
       "\t<tr><td>7.8   </td><td>0.88  </td><td>0     </td><td>2.6   </td><td>0.098 </td><td>25    </td><td>67    </td><td>0.9968</td><td>3.20  </td><td>0.68  </td><td>9.8   </td><td>5     </td></tr>\n",
       "</tbody>\n",
       "</table>\n"
      ],
      "text/latex": [
       "\\begin{tabular}{r|llllllllllll}\n",
       " fixed.acidity & volatile.acidity & citric.acid & residual.sugar & chlorides & free.sulfur.dioxide & total.sulfur.dioxide & density & pH & sulphates & alcohol & quality\\\\\n",
       "\\hline\n",
       "\t 7.4    & 0.70   & 0      & 1.9    & 0.076  & 11     & 34     & 0.9978 & 3.51   & 0.56   & 9.4    & 5     \\\\\n",
       "\t 7.8    & 0.88   & 0      & 2.6    & 0.098  & 25     & 67     & 0.9968 & 3.20   & 0.68   & 9.8    & 5     \\\\\n",
       "\\end{tabular}\n"
      ],
      "text/markdown": [
       "\n",
       "fixed.acidity | volatile.acidity | citric.acid | residual.sugar | chlorides | free.sulfur.dioxide | total.sulfur.dioxide | density | pH | sulphates | alcohol | quality | \n",
       "|---|---|\n",
       "| 7.4    | 0.70   | 0      | 1.9    | 0.076  | 11     | 34     | 0.9978 | 3.51   | 0.56   | 9.4    | 5      | \n",
       "| 7.8    | 0.88   | 0      | 2.6    | 0.098  | 25     | 67     | 0.9968 | 3.20   | 0.68   | 9.8    | 5      | \n",
       "\n",
       "\n"
      ],
      "text/plain": [
       "  fixed.acidity volatile.acidity citric.acid residual.sugar chlorides\n",
       "1 7.4           0.70             0           1.9            0.076    \n",
       "2 7.8           0.88             0           2.6            0.098    \n",
       "  free.sulfur.dioxide total.sulfur.dioxide density pH   sulphates alcohol\n",
       "1 11                  34                   0.9978  3.51 0.56      9.4    \n",
       "2 25                  67                   0.9968  3.20 0.68      9.8    \n",
       "  quality\n",
       "1 5      \n",
       "2 5      "
      ]
     },
     "metadata": {},
     "output_type": "display_data"
    },
    {
     "data": {
      "text/html": [
       "<table>\n",
       "<thead><tr><th scope=col>fixed.acidity</th><th scope=col>volatile.acidity</th><th scope=col>citric.acid</th><th scope=col>residual.sugar</th><th scope=col>chlorides</th><th scope=col>free.sulfur.dioxide</th><th scope=col>total.sulfur.dioxide</th><th scope=col>density</th><th scope=col>pH</th><th scope=col>sulphates</th><th scope=col>alcohol</th><th scope=col>quality</th></tr></thead>\n",
       "<tbody>\n",
       "\t<tr><td>7.0  </td><td>0.27 </td><td>0.36 </td><td>20.7 </td><td>0.045</td><td>45   </td><td>170  </td><td>1.001</td><td>3.0  </td><td>0.45 </td><td>8.8  </td><td>6    </td></tr>\n",
       "\t<tr><td>6.3  </td><td>0.30 </td><td>0.34 </td><td> 1.6 </td><td>0.049</td><td>14   </td><td>132  </td><td>0.994</td><td>3.3  </td><td>0.49 </td><td>9.5  </td><td>6    </td></tr>\n",
       "</tbody>\n",
       "</table>\n"
      ],
      "text/latex": [
       "\\begin{tabular}{r|llllllllllll}\n",
       " fixed.acidity & volatile.acidity & citric.acid & residual.sugar & chlorides & free.sulfur.dioxide & total.sulfur.dioxide & density & pH & sulphates & alcohol & quality\\\\\n",
       "\\hline\n",
       "\t 7.0   & 0.27  & 0.36  & 20.7  & 0.045 & 45    & 170   & 1.001 & 3.0   & 0.45  & 8.8   & 6    \\\\\n",
       "\t 6.3   & 0.30  & 0.34  &  1.6  & 0.049 & 14    & 132   & 0.994 & 3.3   & 0.49  & 9.5   & 6    \\\\\n",
       "\\end{tabular}\n"
      ],
      "text/markdown": [
       "\n",
       "fixed.acidity | volatile.acidity | citric.acid | residual.sugar | chlorides | free.sulfur.dioxide | total.sulfur.dioxide | density | pH | sulphates | alcohol | quality | \n",
       "|---|---|\n",
       "| 7.0   | 0.27  | 0.36  | 20.7  | 0.045 | 45    | 170   | 1.001 | 3.0   | 0.45  | 8.8   | 6     | \n",
       "| 6.3   | 0.30  | 0.34  |  1.6  | 0.049 | 14    | 132   | 0.994 | 3.3   | 0.49  | 9.5   | 6     | \n",
       "\n",
       "\n"
      ],
      "text/plain": [
       "  fixed.acidity volatile.acidity citric.acid residual.sugar chlorides\n",
       "1 7.0           0.27             0.36        20.7           0.045    \n",
       "2 6.3           0.30             0.34         1.6           0.049    \n",
       "  free.sulfur.dioxide total.sulfur.dioxide density pH  sulphates alcohol\n",
       "1 45                  170                  1.001   3.0 0.45      8.8    \n",
       "2 14                  132                  0.994   3.3 0.49      9.5    \n",
       "  quality\n",
       "1 6      \n",
       "2 6      "
      ]
     },
     "metadata": {},
     "output_type": "display_data"
    }
   ],
   "source": [
    "# Carga de los ficheros.\n",
    "# v_T := Dataset Vino Tinto\n",
    "# v_B := Dataset Vino Blanco\n",
    "\n",
    "v_T <- read.csv(url(\"https://archive.ics.uci.edu/ml/machine-learning-databases/wine-quality/winequality-red.csv\"), \n",
    "                sep=\";\", header=TRUE)\n",
    "v_B <- read.csv(url(\"https://archive.ics.uci.edu/ml/machine-learning-databases/wine-quality/winequality-white.csv\"),\n",
    "                sep=\";\", header=TRUE)\n",
    "\n",
    "# Muestra\n",
    "head(v_T,2)\n",
    "head(v_B,2)"
   ]
  },
  {
   "cell_type": "code",
   "execution_count": 2,
   "metadata": {},
   "outputs": [],
   "source": [
    "# Número de filas\n",
    "\n",
    "\n",
    "# Número de columnas\n"
   ]
  },
  {
   "cell_type": "code",
   "execution_count": 3,
   "metadata": {},
   "outputs": [],
   "source": [
    "# Existencia de Duplicados\n"
   ]
  },
  {
   "cell_type": "code",
   "execution_count": 4,
   "metadata": {
    "scrolled": false
   },
   "outputs": [],
   "source": [
    "# Presencia de Nulos\n"
   ]
  },
  {
   "cell_type": "markdown",
   "metadata": {},
   "source": [
    "No se tomarán acciones al respecto puesto que se trata de tests realizados sobre muestras, y esto a priori no es un problema en este caso. Sin embargo, se deberá tener en cuenta de ahora en adelante."
   ]
  },
  {
   "cell_type": "markdown",
   "metadata": {},
   "source": [
    "Por otro lado, se tomarán algunas acciones con el objetivo de facilitar el procesamiento de los mismos y a continuación, se modificaraán los datos de origen de la manera que se explica a continuación:\n",
    "\n",
    "(1) <b>Nueva columna : </b>. Se añadirá una nueva columna  en cada fichero (colúmna número 13) con el objetivo de diferenciar en posteriores análisis si la variante del vino corresponde al tinto (<i>red</i>) o al blanco (<i>white</i>).\n",
    "\n",
    "(2) <b>Unión de ficheros</b>. Una vez añadida la columna que nos indicará el tipo de vino se generará un único fichero con ambos datasets."
   ]
  },
  {
   "cell_type": "code",
   "execution_count": 5,
   "metadata": {},
   "outputs": [
    {
     "data": {
      "text/html": [
       "<table>\n",
       "<thead><tr><th scope=col>fixed.acidity</th><th scope=col>volatile.acidity</th><th scope=col>citric.acid</th><th scope=col>residual.sugar</th><th scope=col>chlorides</th><th scope=col>free.sulfur.dioxide</th><th scope=col>total.sulfur.dioxide</th><th scope=col>density</th><th scope=col>pH</th><th scope=col>sulphates</th><th scope=col>alcohol</th><th scope=col>quality</th><th scope=col>variant</th></tr></thead>\n",
       "<tbody>\n",
       "\t<tr><td>7.4   </td><td>0.70  </td><td>0     </td><td>1.9   </td><td>0.076 </td><td>11    </td><td>34    </td><td>0.9978</td><td>3.51  </td><td>0.56  </td><td>9.4   </td><td>5     </td><td>red   </td></tr>\n",
       "\t<tr><td>7.8   </td><td>0.88  </td><td>0     </td><td>2.6   </td><td>0.098 </td><td>25    </td><td>67    </td><td>0.9968</td><td>3.20  </td><td>0.68  </td><td>9.8   </td><td>5     </td><td>red   </td></tr>\n",
       "</tbody>\n",
       "</table>\n"
      ],
      "text/latex": [
       "\\begin{tabular}{r|lllllllllllll}\n",
       " fixed.acidity & volatile.acidity & citric.acid & residual.sugar & chlorides & free.sulfur.dioxide & total.sulfur.dioxide & density & pH & sulphates & alcohol & quality & variant\\\\\n",
       "\\hline\n",
       "\t 7.4    & 0.70   & 0      & 1.9    & 0.076  & 11     & 34     & 0.9978 & 3.51   & 0.56   & 9.4    & 5      & red   \\\\\n",
       "\t 7.8    & 0.88   & 0      & 2.6    & 0.098  & 25     & 67     & 0.9968 & 3.20   & 0.68   & 9.8    & 5      & red   \\\\\n",
       "\\end{tabular}\n"
      ],
      "text/markdown": [
       "\n",
       "fixed.acidity | volatile.acidity | citric.acid | residual.sugar | chlorides | free.sulfur.dioxide | total.sulfur.dioxide | density | pH | sulphates | alcohol | quality | variant | \n",
       "|---|---|\n",
       "| 7.4    | 0.70   | 0      | 1.9    | 0.076  | 11     | 34     | 0.9978 | 3.51   | 0.56   | 9.4    | 5      | red    | \n",
       "| 7.8    | 0.88   | 0      | 2.6    | 0.098  | 25     | 67     | 0.9968 | 3.20   | 0.68   | 9.8    | 5      | red    | \n",
       "\n",
       "\n"
      ],
      "text/plain": [
       "  fixed.acidity volatile.acidity citric.acid residual.sugar chlorides\n",
       "1 7.4           0.70             0           1.9            0.076    \n",
       "2 7.8           0.88             0           2.6            0.098    \n",
       "  free.sulfur.dioxide total.sulfur.dioxide density pH   sulphates alcohol\n",
       "1 11                  34                   0.9978  3.51 0.56      9.4    \n",
       "2 25                  67                   0.9968  3.20 0.68      9.8    \n",
       "  quality variant\n",
       "1 5       red    \n",
       "2 5       red    "
      ]
     },
     "metadata": {},
     "output_type": "display_data"
    },
    {
     "data": {
      "text/html": [
       "<table>\n",
       "<thead><tr><th scope=col>fixed.acidity</th><th scope=col>volatile.acidity</th><th scope=col>citric.acid</th><th scope=col>residual.sugar</th><th scope=col>chlorides</th><th scope=col>free.sulfur.dioxide</th><th scope=col>total.sulfur.dioxide</th><th scope=col>density</th><th scope=col>pH</th><th scope=col>sulphates</th><th scope=col>alcohol</th><th scope=col>quality</th><th scope=col>variant</th></tr></thead>\n",
       "<tbody>\n",
       "\t<tr><td>7.0  </td><td>0.27 </td><td>0.36 </td><td>20.7 </td><td>0.045</td><td>45   </td><td>170  </td><td>1.001</td><td>3.0  </td><td>0.45 </td><td>8.8  </td><td>6    </td><td>white</td></tr>\n",
       "\t<tr><td>6.3  </td><td>0.30 </td><td>0.34 </td><td> 1.6 </td><td>0.049</td><td>14   </td><td>132  </td><td>0.994</td><td>3.3  </td><td>0.49 </td><td>9.5  </td><td>6    </td><td>white</td></tr>\n",
       "</tbody>\n",
       "</table>\n"
      ],
      "text/latex": [
       "\\begin{tabular}{r|lllllllllllll}\n",
       " fixed.acidity & volatile.acidity & citric.acid & residual.sugar & chlorides & free.sulfur.dioxide & total.sulfur.dioxide & density & pH & sulphates & alcohol & quality & variant\\\\\n",
       "\\hline\n",
       "\t 7.0   & 0.27  & 0.36  & 20.7  & 0.045 & 45    & 170   & 1.001 & 3.0   & 0.45  & 8.8   & 6     & white\\\\\n",
       "\t 6.3   & 0.30  & 0.34  &  1.6  & 0.049 & 14    & 132   & 0.994 & 3.3   & 0.49  & 9.5   & 6     & white\\\\\n",
       "\\end{tabular}\n"
      ],
      "text/markdown": [
       "\n",
       "fixed.acidity | volatile.acidity | citric.acid | residual.sugar | chlorides | free.sulfur.dioxide | total.sulfur.dioxide | density | pH | sulphates | alcohol | quality | variant | \n",
       "|---|---|\n",
       "| 7.0   | 0.27  | 0.36  | 20.7  | 0.045 | 45    | 170   | 1.001 | 3.0   | 0.45  | 8.8   | 6     | white | \n",
       "| 6.3   | 0.30  | 0.34  |  1.6  | 0.049 | 14    | 132   | 0.994 | 3.3   | 0.49  | 9.5   | 6     | white | \n",
       "\n",
       "\n"
      ],
      "text/plain": [
       "  fixed.acidity volatile.acidity citric.acid residual.sugar chlorides\n",
       "1 7.0           0.27             0.36        20.7           0.045    \n",
       "2 6.3           0.30             0.34         1.6           0.049    \n",
       "  free.sulfur.dioxide total.sulfur.dioxide density pH  sulphates alcohol\n",
       "1 45                  170                  1.001   3.0 0.45      8.8    \n",
       "2 14                  132                  0.994   3.3 0.49      9.5    \n",
       "  quality variant\n",
       "1 6       white  \n",
       "2 6       white  "
      ]
     },
     "metadata": {},
     "output_type": "display_data"
    }
   ],
   "source": [
    "# Añadir nueva columna\n",
    "# variant := red, white\n",
    "\n",
    "v_T$variant <- as.character('red');\n",
    "v_B$variant <- as.character('white');\n",
    "\n",
    "head(v_T,2);\n",
    "head(v_B,2);"
   ]
  },
  {
   "cell_type": "code",
   "execution_count": 6,
   "metadata": {},
   "outputs": [
    {
     "data": {
      "text/html": [
       "<table>\n",
       "<thead><tr><th scope=col>fixed.acidity</th><th scope=col>volatile.acidity</th><th scope=col>citric.acid</th><th scope=col>residual.sugar</th><th scope=col>chlorides</th><th scope=col>free.sulfur.dioxide</th><th scope=col>total.sulfur.dioxide</th><th scope=col>density</th><th scope=col>pH</th><th scope=col>sulphates</th><th scope=col>alcohol</th><th scope=col>quality</th><th scope=col>variant</th></tr></thead>\n",
       "<tbody>\n",
       "\t<tr><td>7.4   </td><td>0.70  </td><td>0.00  </td><td>1.9   </td><td>0.076 </td><td>11    </td><td>34    </td><td>0.9978</td><td>3.51  </td><td>0.56  </td><td>9.4   </td><td>5     </td><td>red   </td></tr>\n",
       "\t<tr><td>7.8   </td><td>0.88  </td><td>0.00  </td><td>2.6   </td><td>0.098 </td><td>25    </td><td>67    </td><td>0.9968</td><td>3.20  </td><td>0.68  </td><td>9.8   </td><td>5     </td><td>red   </td></tr>\n",
       "\t<tr><td>7.8   </td><td>0.76  </td><td>0.04  </td><td>2.3   </td><td>0.092 </td><td>15    </td><td>54    </td><td>0.9970</td><td>3.26  </td><td>0.65  </td><td>9.8   </td><td>5     </td><td>red   </td></tr>\n",
       "</tbody>\n",
       "</table>\n"
      ],
      "text/latex": [
       "\\begin{tabular}{r|lllllllllllll}\n",
       " fixed.acidity & volatile.acidity & citric.acid & residual.sugar & chlorides & free.sulfur.dioxide & total.sulfur.dioxide & density & pH & sulphates & alcohol & quality & variant\\\\\n",
       "\\hline\n",
       "\t 7.4    & 0.70   & 0.00   & 1.9    & 0.076  & 11     & 34     & 0.9978 & 3.51   & 0.56   & 9.4    & 5      & red   \\\\\n",
       "\t 7.8    & 0.88   & 0.00   & 2.6    & 0.098  & 25     & 67     & 0.9968 & 3.20   & 0.68   & 9.8    & 5      & red   \\\\\n",
       "\t 7.8    & 0.76   & 0.04   & 2.3    & 0.092  & 15     & 54     & 0.9970 & 3.26   & 0.65   & 9.8    & 5      & red   \\\\\n",
       "\\end{tabular}\n"
      ],
      "text/markdown": [
       "\n",
       "fixed.acidity | volatile.acidity | citric.acid | residual.sugar | chlorides | free.sulfur.dioxide | total.sulfur.dioxide | density | pH | sulphates | alcohol | quality | variant | \n",
       "|---|---|---|\n",
       "| 7.4    | 0.70   | 0.00   | 1.9    | 0.076  | 11     | 34     | 0.9978 | 3.51   | 0.56   | 9.4    | 5      | red    | \n",
       "| 7.8    | 0.88   | 0.00   | 2.6    | 0.098  | 25     | 67     | 0.9968 | 3.20   | 0.68   | 9.8    | 5      | red    | \n",
       "| 7.8    | 0.76   | 0.04   | 2.3    | 0.092  | 15     | 54     | 0.9970 | 3.26   | 0.65   | 9.8    | 5      | red    | \n",
       "\n",
       "\n"
      ],
      "text/plain": [
       "  fixed.acidity volatile.acidity citric.acid residual.sugar chlorides\n",
       "1 7.4           0.70             0.00        1.9            0.076    \n",
       "2 7.8           0.88             0.00        2.6            0.098    \n",
       "3 7.8           0.76             0.04        2.3            0.092    \n",
       "  free.sulfur.dioxide total.sulfur.dioxide density pH   sulphates alcohol\n",
       "1 11                  34                   0.9978  3.51 0.56      9.4    \n",
       "2 25                  67                   0.9968  3.20 0.68      9.8    \n",
       "3 15                  54                   0.9970  3.26 0.65      9.8    \n",
       "  quality variant\n",
       "1 5       red    \n",
       "2 5       red    \n",
       "3 5       red    "
      ]
     },
     "metadata": {},
     "output_type": "display_data"
    },
    {
     "data": {
      "text/html": [
       "'Num filas v : 6497'"
      ],
      "text/latex": [
       "'Num filas v : 6497'"
      ],
      "text/markdown": [
       "'Num filas v : 6497'"
      ],
      "text/plain": [
       "[1] \"Num filas v : 6497\""
      ]
     },
     "metadata": {},
     "output_type": "display_data"
    },
    {
     "data": {
      "text/html": [
       "'Num columnas v : 13'"
      ],
      "text/latex": [
       "'Num columnas v : 13'"
      ],
      "text/markdown": [
       "'Num columnas v : 13'"
      ],
      "text/plain": [
       "[1] \"Num columnas v : 13\""
      ]
     },
     "metadata": {},
     "output_type": "display_data"
    }
   ],
   "source": [
    "# Unión de datasets\n",
    "\n",
    "v <- rbind(v_T,v_B)\n",
    "nf_v <- nrow(v)\n",
    "nc_v <- ncol(v)\n",
    "\n",
    "head(v,3)\n",
    "paste('Num filas v : ',nf_v,sep=\"\")\n",
    "paste('Num columnas v : ',nc_v,sep=\"\")"
   ]
  },
  {
   "cell_type": "code",
   "execution_count": 7,
   "metadata": {},
   "outputs": [],
   "source": [
    "# Visualizamos la estructura del juego de datos\n"
   ]
  },
  {
   "cell_type": "markdown",
   "metadata": {},
   "source": [
    "### Instalación y Carga de paquetes R\n",
    "Para terminar, se cargan todos los paquetes que van a ser utilizados a lo largo del ejercicio."
   ]
  },
  {
   "cell_type": "code",
   "execution_count": 8,
   "metadata": {},
   "outputs": [
    {
     "name": "stderr",
     "output_type": "stream",
     "text": [
      "Loading required package: ggplot2\n",
      "Loading required package: devtools\n",
      "Loading required package: e1071\n",
      "Loading required package: neuralnet\n"
     ]
    }
   ],
   "source": [
    "if(!require(ggplot2)){\n",
    "    install.packages('ggplot2',repos='http://cran.es.r-project.org')\n",
    "    require(ggplot2)\n",
    "}\n",
    "if(!require(devtools)){\n",
    "    install.packages('devtools',repos='http://cran.es.r-project.org')\n",
    "    require(devtools)\n",
    "}\n",
    "if(!require(e1071)){\n",
    "    install.packages('e1071', repos='http://cran.es.r-project.org')\n",
    "    require(e1071)\n",
    "}\n",
    "if(!require(neuralnet)){\n",
    "    install.packages('neuralnet', repos='http://cran.es.r-project.org')\n",
    "    require(neuralnet)\n",
    "}\n"
   ]
  },
  {
   "cell_type": "markdown",
   "metadata": {},
   "source": [
    "********************************************************\n",
    "## 2. Trabajar la calidad de los datos: limpieza, categorización, normalización.\n",
    "********************************************************"
   ]
  },
  {
   "cell_type": "code",
   "execution_count": 9,
   "metadata": {},
   "outputs": [
    {
     "data": {
      "image/png": "[encoded data removed]",
      "text/plain": [
       "Plot with title “Análisis Univariante - version 1”"
      ]
     },
     "metadata": {},
     "output_type": "display_data"
    }
   ],
   "source": [
    "# Análisis Univariante - Diagrama de Cajas (versión 1)\n",
    "v_aux <- v\n",
    "v_aux$variant <- NULL\n",
    "\n",
    "boxplot(v_aux,\n",
    "        las = 2,\n",
    "        main = \"Análisis Univariante - version 1\",\n",
    "        col = c(\"lightblue2\",\"lightblue2\",\"lightblue2\",\"lightblue2\",\"lightblue2\",\"lightblue2\",\n",
    "                \"lightblue2\",\"lightblue2\",\"lightblue2\",\"lightblue2\",\"lightblue2\",\"lightblue2\"))"
   ]
  },
  {
   "cell_type": "markdown",
   "metadata": {},
   "source": [
    "###### Normalización de variables\n",
    "\n",
    "En este paso se normalizarán los datos numéricos:"
   ]
  },
  {
   "cell_type": "code",
   "execution_count": 10,
   "metadata": {},
   "outputs": [],
   "source": [
    "# Normalizamos los datos numéricos\n",
    "v[,1] <- scale(as.numeric(v[,1]))\n",
    "v[,2] <- scale(as.numeric(v[,2]))\n",
    "v[,3] <- scale(as.numeric(v[,3]))\n",
    "v[,4] <- scale(as.numeric(v[,4]))\n",
    "v[,5] <- scale(as.numeric(v[,5]))\n",
    "v[,6] <- scale(as.numeric(v[,6]))\n",
    "v[,7] <- scale(as.numeric(v[,7]))\n",
    "v[,8] <- scale(as.numeric(v[,8]))\n",
    "v[,9] <- scale(as.numeric(v[,9]))\n",
    "v[,10] <- scale(as.numeric(v[,10]))\n",
    "v[,11] <- scale(as.numeric(v[,11]))\n",
    "v[,12] <- scale(as.numeric(v[,12]))\n",
    "\n",
    "# Visualizamos de nuevo la estructura del juego de datos\n"
   ]
  },
  {
   "cell_type": "markdown",
   "metadata": {},
   "source": [
    "###### Categorización de la variable objetivo\n",
    "\n",
    "Nuestra variable objetivo será <b>'variant'</b> que nos da información acerca de la variante de vino y que puede pertencer al grupo de tintos (variant='red', grupo:1) o a la de blancos (variant='white', grupo:0).\n",
    "\n",
    "A continuación, crearemos una nueva variable <b>v2</b> con la categorización de la variante de vino en 0 y 1, para facilitar su manipulación."
   ]
  },
  {
   "cell_type": "code",
   "execution_count": 11,
   "metadata": {
    "scrolled": false
   },
   "outputs": [],
   "source": [
    "# Creación Variables v2 y x\n",
    "v2 <- v\n",
    "x <- v2[,1:12]\n",
    "y <- v2[,13]\n",
    "\n",
    "# Categorización (1, 0)\n",
    "v2[v2[,13]=='red',]$variant <- 1\n",
    "v2[v2[,13]=='white',]$variant <- 0\n",
    "\n",
    "# Creación Variable z\n",
    "z <- factor(v2[,13])\n"
   ]
  },
  {
   "cell_type": "markdown",
   "metadata": {},
   "source": [
    "********************************************************\n",
    "### 3. Estudiad correlaciones y generar nuevas variables si es necesario.\n",
    "********************************************************"
   ]
  },
  {
   "cell_type": "markdown",
   "metadata": {},
   "source": [
    "********************************************************\n",
    "### 4. Optimización de los parámetros gamma y coste\n",
    "********************************************************"
   ]
  },
  {
   "cell_type": "markdown",
   "metadata": {},
   "source": [
    "En esta sección se utilizará la función tune() y se tratará de encontrar los parámetros óptimos gamma y coste en función del tipo de kernel utilizado teniendo en cuenta los tres casos propuestos en el apartado siguiente."
   ]
  },
  {
   "cell_type": "markdown",
   "metadata": {},
   "source": [
    "###### Separar datos de entrenamiento y datos de prueba"
   ]
  },
  {
   "cell_type": "code",
   "execution_count": 12,
   "metadata": {},
   "outputs": [
    {
     "data": {
      "text/html": [
       "<table>\n",
       "<thead><tr><th></th><th scope=col>fixed.acidity</th><th scope=col>volatile.acidity</th><th scope=col>citric.acid</th><th scope=col>residual.sugar</th><th scope=col>chlorides</th><th scope=col>free.sulfur.dioxide</th><th scope=col>total.sulfur.dioxide</th><th scope=col>density</th><th scope=col>pH</th><th scope=col>sulphates</th><th scope=col>alcohol</th><th scope=col>quality</th></tr></thead>\n",
       "<tbody>\n",
       "\t<tr><th scope=row>2</th><td>0.451001  </td><td>3.281982  </td><td>-2.192664 </td><td>-0.5975941</td><td>1.197883  </td><td>-0.3112961</td><td>-0.8624022</td><td>0.7014323 </td><td>-0.1150642</td><td>0.9995017 </td><td>-0.5800235</td><td>-0.9371575</td></tr>\n",
       "\t<tr><th scope=row>3</th><td>0.451001  </td><td>2.553104  </td><td>-1.917405 </td><td>-0.6606484</td><td>1.026618  </td><td>-0.8746955</td><td>-1.0924018</td><td>0.7681285 </td><td> 0.2580999</td><td>0.7978967 </td><td>-0.5800235</td><td>-0.9371575</td></tr>\n",
       "</tbody>\n",
       "</table>\n"
      ],
      "text/latex": [
       "\\begin{tabular}{r|llllllllllll}\n",
       "  & fixed.acidity & volatile.acidity & citric.acid & residual.sugar & chlorides & free.sulfur.dioxide & total.sulfur.dioxide & density & pH & sulphates & alcohol & quality\\\\\n",
       "\\hline\n",
       "\t2 & 0.451001   & 3.281982   & -2.192664  & -0.5975941 & 1.197883   & -0.3112961 & -0.8624022 & 0.7014323  & -0.1150642 & 0.9995017  & -0.5800235 & -0.9371575\\\\\n",
       "\t3 & 0.451001   & 2.553104   & -1.917405  & -0.6606484 & 1.026618   & -0.8746955 & -1.0924018 & 0.7681285  &  0.2580999 & 0.7978967  & -0.5800235 & -0.9371575\\\\\n",
       "\\end{tabular}\n"
      ],
      "text/markdown": [
       "\n",
       "| <!--/--> | fixed.acidity | volatile.acidity | citric.acid | residual.sugar | chlorides | free.sulfur.dioxide | total.sulfur.dioxide | density | pH | sulphates | alcohol | quality | \n",
       "|---|---|\n",
       "| 2 | 0.451001   | 3.281982   | -2.192664  | -0.5975941 | 1.197883   | -0.3112961 | -0.8624022 | 0.7014323  | -0.1150642 | 0.9995017  | -0.5800235 | -0.9371575 | \n",
       "| 3 | 0.451001   | 2.553104   | -1.917405  | -0.6606484 | 1.026618   | -0.8746955 | -1.0924018 | 0.7681285  |  0.2580999 | 0.7978967  | -0.5800235 | -0.9371575 | \n",
       "\n",
       "\n"
      ],
      "text/plain": [
       "  fixed.acidity volatile.acidity citric.acid residual.sugar chlorides\n",
       "2 0.451001      3.281982         -2.192664   -0.5975941     1.197883 \n",
       "3 0.451001      2.553104         -1.917405   -0.6606484     1.026618 \n",
       "  free.sulfur.dioxide total.sulfur.dioxide density   pH         sulphates\n",
       "2 -0.3112961          -0.8624022           0.7014323 -0.1150642 0.9995017\n",
       "3 -0.8746955          -1.0924018           0.7681285  0.2580999 0.7978967\n",
       "  alcohol    quality   \n",
       "2 -0.5800235 -0.9371575\n",
       "3 -0.5800235 -0.9371575"
      ]
     },
     "metadata": {},
     "output_type": "display_data"
    },
    {
     "data": {
      "text/html": [
       "'Número filas dataset entrenamiento: 4331'"
      ],
      "text/latex": [
       "'Número filas dataset entrenamiento: 4331'"
      ],
      "text/markdown": [
       "'Número filas dataset entrenamiento: 4331'"
      ],
      "text/plain": [
       "[1] \"Número filas dataset entrenamiento: 4331\""
      ]
     },
     "metadata": {},
     "output_type": "display_data"
    },
    {
     "data": {
      "text/html": [
       "'Número filas dataset test: 2166'"
      ],
      "text/latex": [
       "'Número filas dataset test: 2166'"
      ],
      "text/markdown": [
       "'Número filas dataset test: 2166'"
      ],
      "text/plain": [
       "[1] \"Número filas dataset test: 2166\""
      ]
     },
     "metadata": {},
     "output_type": "display_data"
    }
   ],
   "source": [
    "#Separamos los datos de las etiquetas\n",
    "labels <- z\n",
    "data <- x\n",
    "\n",
    "# Utilizaremos 2/3 de los datos para entrenamiento\n",
    "N=dim(data)[1]\n",
    "all=seq(1,N)\n",
    "set.seed(10)\n",
    "id.train=sort(sample(N,N*2/3));\n",
    "id.test=setdiff(all,id.train);\n",
    "\n",
    "# Generamos el conjunto de entrenamiento:\n",
    "train <- data[id.train,]\n",
    "labelsTrain <- labels[id.train]\n",
    "head(train,2)\n",
    "paste('Número filas dataset entrenamiento: ',nrow(train),sep=\"\")\n",
    "\n",
    "# Generamos el conjunto de test:\n",
    "test <- data[id.test,]\n",
    "labelsTest <- labels[id.test]\n",
    "paste('Número filas dataset test: ',nrow(test),sep=\"\")\n",
    "\n",
    "# Preparamos los datos de entrenamiento\n",
    "trainFact=data.frame(train,z=as.factor(labelsTrain))"
   ]
  },
  {
   "cell_type": "code",
   "execution_count": 13,
   "metadata": {},
   "outputs": [
    {
     "data": {
      "text/plain": [
       "labelsTrain\n",
       "     0      1 \n",
       "0.7571 0.2429 "
      ]
     },
     "metadata": {},
     "output_type": "display_data"
    },
    {
     "data": {
      "text/plain": [
       "labelsTest\n",
       "        0         1 \n",
       "0.7474608 0.2525392 "
      ]
     },
     "metadata": {},
     "output_type": "display_data"
    }
   ],
   "source": [
    "# Proporciones de cada variante en las particiones\n",
    "prop.table(table(labelsTrain))\n",
    "prop.table(table(labelsTest))"
   ]
  },
  {
   "cell_type": "markdown",
   "metadata": {},
   "source": [
    "Observamos que alrededor de un 75% de la muestra se refiere a la variante de blanco."
   ]
  },
  {
   "cell_type": "markdown",
   "metadata": {},
   "source": [
    "### Testeamos algunos valores de gamma y coste para ver cómo acotarlos"
   ]
  },
  {
   "cell_type": "markdown",
   "metadata": {},
   "source": [
    "##### Kernel = Polynomial"
   ]
  },
  {
   "cell_type": "markdown",
   "metadata": {},
   "source": [
    "##### Kernel = Radial"
   ]
  },
  {
   "cell_type": "markdown",
   "metadata": {},
   "source": [
    "##### Kernel = Sigmoidal"
   ]
  },
  {
   "cell_type": "markdown",
   "metadata": {},
   "source": [
    "********************************************************\n",
    "### 5. Aplicación del algoritmo SVM radial, polinomial y sigmoidal\n",
    "********************************************************"
   ]
  },
  {
   "cell_type": "markdown",
   "metadata": {},
   "source": [
    "En los siguientes pasos, se aplicará el algoritmo SVM polinomial, radial y sigmoidal. "
   ]
  },
  {
   "cell_type": "markdown",
   "metadata": {},
   "source": [
    "#### SVM Polinomial\n",
    "\n",
    "Partiendo de los valores óptimos para gamma y coste, aplicaremos los distintos modelos que tenemos previstos.\n"
   ]
  },
  {
   "cell_type": "markdown",
   "metadata": {},
   "source": [
    "#### SVM Radial\n",
    "\n",
    "Partiendo de los valores óptimos para gamma y coste, aplicaremos los distintos modelos que tenemos previstos."
   ]
  },
  {
   "cell_type": "markdown",
   "metadata": {},
   "source": [
    "#### SVM Sigmoidal\n",
    "\n",
    "Partiendo de los valores óptimos para gamma y coste, aplicaremos los distintos modelos que tenemos previstos."
   ]
  },
  {
   "cell_type": "markdown",
   "metadata": {},
   "source": [
    "********************************************************\n",
    "### 6. Aplicación del algoritmo redes neuronales\n",
    "********************************************************\n",
    "\n",
    "Antes de iniciar la parte de la práctica dedicada a redes neuronales, recomendamos jugar un poco con **Tensorflow**, una implementación de Google, especialmente pensada para **Deep Learning** avanzado en el que se pone a disposición de la comunidad de desarrolladores una serie de funciones prediseñadas que explotan las capacidades de las redes neuronales en tareas de clasificación. \n",
    "\n",
    "**Tensorflow** es una implementación nativa para Jupyter con el kernel de Python y también existe una versión para el kernel R.\n",
    "\n",
    "En la página web http://playground.tensorflow.org encontraréis un ejemplo donde podréis experimentar cambiando parámetros como número de neuronas y capas y viendo qué efecto tiene sobre el resultado de muestra.  \n",
    "\n",
    "Esta implementación online os servirá para entender mejor el impacto del diseño de la arquitectura de la red neuronal, en los resultados obtenidos por la misma.\n",
    "\n"
   ]
  },
  {
   "cell_type": "markdown",
   "metadata": {},
   "source": [
    "###### Datos de entrenamiento y datos de prueba"
   ]
  },
  {
   "cell_type": "code",
   "execution_count": 14,
   "metadata": {},
   "outputs": [],
   "source": [
    "#Separamos los datos de las etiquetas\n",
    "variante <- z\n",
    "data <- cbind(x,variante)\n",
    "\n",
    "# Utilizaremos 2/3 de los datos para entrenamiento\n",
    "N=dim(data)[1]\n",
    "all=seq(1,N)\n",
    "set.seed(10)\n",
    "id.train=sort(sample(N,N*2/3));\n",
    "id.test=setdiff(all,id.train);\n",
    "\n",
    "# Generamos el conjunto de entrenamiento:\n",
    "trainingdata <- data[id.train,1:13]\n",
    "colnames(trainingdata) <- c(\"Input1\",\"Input2\",\"Input3\",\"Input4\",\"Input5\",\"Input6\",\"Input7\",\"Input8\",\"Input9\",\"Input10\",\"Input11\",\"Input12\",\"Output\") \n",
    "trainingdata2 <- trainingdata\n",
    "trainingdata2 <- apply(trainingdata2, 2, as.numeric)\n",
    "\n",
    "#Test the neural network on some training data\n",
    "testdata <- data[id.test,1:12]\n",
    "colnames(testdata) <- c(\"Input1\",\"Input2\",\"Input3\",\"Input4\",\"Input5\",\"Input6\",\"Input7\",\"Input8\",\"Input9\",\"Input10\",\"Input11\",\"Input12\") \n",
    "testdata2 <- testdata\n",
    "testdata2 <- apply(testdata2, 2, as.numeric)\n"
   ]
  },
  {
   "cell_type": "markdown",
   "metadata": {},
   "source": [
    "###### Modelo con una capa de 2 neuronas y con un criterio de parada de 0.01"
   ]
  },
  {
   "cell_type": "markdown",
   "metadata": {},
   "source": [
    "###### Modelo con una capa de 3 capas de 3, 2 y 1 neuronas y con un criterio de parada de 0.01"
   ]
  },
  {
   "cell_type": "markdown",
   "metadata": {},
   "source": [
    "********************************************************\n",
    "### 7. Mejora del juego de datos mediante los algoritmos PCA y SVD estudiados en la PEC1.\n",
    "********************************************************"
   ]
  },
  {
   "cell_type": "markdown",
   "metadata": {},
   "source": [
    "### PCA"
   ]
  },
  {
   "cell_type": "markdown",
   "metadata": {},
   "source": [
    "#### SVD"
   ]
  },
  {
   "cell_type": "markdown",
   "metadata": {},
   "source": [
    "********************************************************\n",
    "### 8.  Aplicar de nuevo SVM y Redes Neuronales y verificar si se han producido mejoras.\n",
    "********************************************************"
   ]
  },
  {
   "cell_type": "markdown",
   "metadata": {},
   "source": [
    "Aplicamos de nuevos los modelos haciendo uso de PCA:"
   ]
  },
  {
   "cell_type": "markdown",
   "metadata": {},
   "source": [
    "********************************************************\n",
    "### 9. Conclusiones \n",
    "********************************************************\n",
    "    9.1  Conclusiones para Máquinas de Soporte Vectorial  \n",
    "    9.2  Conclusiones para Redes Neuronales\n",
    "    9.3  Comparativa de los dos algoritmos"
   ]
  },
  {
   "cell_type": "markdown",
   "metadata": {},
   "source": [
    "********************************************************\n",
    "### 10. Fuentes consultadas\n",
    "********************************************************"
   ]
  }
 ],
 "metadata": {
  "anaconda-cloud": {},
  "kernelspec": {
   "display_name": "R",
   "language": "R",
   "name": "ir"
  },
  "language_info": {
   "codemirror_mode": "r",
   "file_extension": ".r",
   "mimetype": "text/x-r-source",
   "name": "R",
   "pygments_lexer": "r",
   "version": "3.4.3"
  }
 },
 "nbformat": 4,
 "nbformat_minor": 1
}
